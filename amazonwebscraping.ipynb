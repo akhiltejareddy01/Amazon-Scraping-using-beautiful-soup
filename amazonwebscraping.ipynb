{
  "nbformat": 4,
  "nbformat_minor": 0,
  "metadata": {
    "colab": {
      "provenance": [],
      "authorship_tag": "ABX9TyNtRtdKgJ7XXZ/M18W1pyu7",
      "include_colab_link": true
    },
    "kernelspec": {
      "name": "python3",
      "display_name": "Python 3"
    },
    "language_info": {
      "name": "python"
    }
  },
  "cells": [
    {
      "cell_type": "markdown",
      "metadata": {
        "id": "view-in-github",
        "colab_type": "text"
      },
      "source": [
        "<a href=\"https://colab.research.google.com/github/akhiltejareddy01/Amazon-Scraping-using-beautiful-soup/blob/main/amazonwebscraping.ipynb\" target=\"_parent\"><img src=\"https://colab.research.google.com/assets/colab-badge.svg\" alt=\"Open In Colab\"/></a>"
      ]
    },
    {
      "cell_type": "code",
      "execution_count": 19,
      "metadata": {
        "id": "yb0RKw9pboTn"
      },
      "outputs": [],
      "source": [
        "from bs4 import BeautifulSoup\n",
        "import requests\n",
        "import pandas as pd\n",
        "import numpy as np"
      ]
    },
    {
      "cell_type": "code",
      "source": [
        "'''\n",
        "for i in range(1,21):\n",
        "  base_url=f'https://www.amazon.in/s?k=phones&page=2&qid=1669543178&ref=sr_pg_{i}'\n",
        "  header={\"User-Agent\": \"Mozilla/5.0 (Windows NT 10.0; Win64; x64) AppleWebKit/537.36 (KHTML, like Gecko) Chrome/107.0.0.0 Safari/537.36\"}\n",
        "'''"
      ],
      "metadata": {
        "colab": {
          "base_uri": "https://localhost:8080/",
          "height": 53
        },
        "id": "w9BlQbl6b7RV",
        "outputId": "61dbaf27-3394-4083-e180-88e0e71d0eb1"
      },
      "execution_count": 20,
      "outputs": [
        {
          "output_type": "execute_result",
          "data": {
            "text/plain": [
              "'\\nfor i in range(1,21):\\n  base_url=f\\'https://www.amazon.in/s?k=phones&page=2&qid=1669543178&ref=sr_pg_{i}\\'\\n  header={\"User-Agent\": \"Mozilla/5.0 (Windows NT 10.0; Win64; x64) AppleWebKit/537.36 (KHTML, like Gecko) Chrome/107.0.0.0 Safari/537.36\"}\\n'"
            ],
            "application/vnd.google.colaboratory.intrinsic+json": {
              "type": "string"
            }
          },
          "metadata": {},
          "execution_count": 20
        }
      ]
    },
    {
      "cell_type": "code",
      "source": [
        "base_url='https://www.amazon.in/s?k=phones&page=2&qid=1669543178&ref=sr_pg_1'\n",
        "header={\"User-Agent\": \"Mozilla/5.0 (Windows NT 10.0; Win64; x64) AppleWebKit/537.36 (KHTML, like Gecko) Chrome/107.0.0.0 Safari/537.36\"}"
      ],
      "metadata": {
        "id": "RKP2z84IyY3h"
      },
      "execution_count": 21,
      "outputs": []
    },
    {
      "cell_type": "code",
      "source": [
        "webpage=requests.get(base_url,headers=header)"
      ],
      "metadata": {
        "id": "QQFq90FzcGOC"
      },
      "execution_count": 22,
      "outputs": []
    },
    {
      "cell_type": "code",
      "source": [
        "soup=BeautifulSoup(webpage.content,'html.parser')\n"
      ],
      "metadata": {
        "id": "54k-0haTcwWr"
      },
      "execution_count": 23,
      "outputs": []
    },
    {
      "cell_type": "code",
      "source": [
        "links=soup.find_all('a',class_='a-link-normal s-underline-text s-underline-link-text s-link-style a-text-normal')\n",
        "links"
      ],
      "metadata": {
        "colab": {
          "base_uri": "https://localhost:8080/"
        },
        "id": "kn2r1ONEdYld",
        "outputId": "f38b8574-648c-4c19-daee-a54636e4b570"
      },
      "execution_count": 24,
      "outputs": [
        {
          "output_type": "execute_result",
          "data": {
            "text/plain": [
              "[<a class=\"a-link-normal s-underline-text s-underline-link-text s-link-style a-text-normal\" href=\"/Redmi-Storage-Battery-Leather-Texture/dp/B0BBN4DZBD/ref=sr_1_17?keywords=phones&amp;qid=1669649157&amp;qu=eyJxc2MiOiI4LjI2IiwicXNhIjoiNy44NSIsInFzcCI6IjUuODkifQ%3D%3D&amp;sr=8-17\" target=\"_blank\"><span class=\"a-size-medium a-color-base a-text-normal\">Redmi A1 (Light Blue, 2GB RAM, 32GB Storage) | Segment Best AI Dual Cam | 5000mAh Battery | Leather Texture Design | Android 12</span> </a>,\n",
              " <a class=\"a-link-normal s-underline-text s-underline-link-text s-link-style a-text-normal\" href=\"/Samsung-Midnight-Storage-6000mAh-Battery/dp/B0B4F52B5X/ref=sr_1_18?keywords=phones&amp;qid=1669649157&amp;qu=eyJxc2MiOiI4LjI2IiwicXNhIjoiNy44NSIsInFzcCI6IjUuODkifQ%3D%3D&amp;sr=8-18\" target=\"_blank\"><span class=\"a-size-medium a-color-base a-text-normal\">Samsung Galaxy M13 (Midnight Blue, 4GB, 64GB Storage) | 6000mAh Battery | Upto 8GB RAM with RAM Plus</span> </a>,\n",
              " <a class=\"a-link-normal s-underline-text s-underline-link-text s-link-style a-text-normal\" href=\"/Tecno-Spark-Storage-Expandable-Processor/dp/B0B56YRBNT/ref=sr_1_19?keywords=phones&amp;qid=1669649157&amp;qu=eyJxc2MiOiI4LjI2IiwicXNhIjoiNy44NSIsInFzcCI6IjUuODkifQ%3D%3D&amp;sr=8-19\" target=\"_blank\"><span class=\"a-size-medium a-color-base a-text-normal\">Tecno Spark 9 (Sky Mirror, 6GB RAM,128GB Storage) | 11GB Expandable RAM | Helio G37 Gaming Processor</span> </a>,\n",
              " <a class=\"a-link-normal s-underline-text s-underline-link-text s-link-style a-text-normal\" href=\"/realme-narzo-Carbon-Black-Storage/dp/B09FKB3446/ref=sr_1_20?keywords=phones&amp;qid=1669649157&amp;qu=eyJxc2MiOiI4LjI2IiwicXNhIjoiNy44NSIsInFzcCI6IjUuODkifQ%3D%3D&amp;sr=8-20\" target=\"_blank\"><span class=\"a-size-medium a-color-base a-text-normal\">realme narzo 50i (Carbon Black, 4GB RAM+64GB Storage) Octa Core Processor | 6.5\" inch Large Display</span> </a>,\n",
              " <a class=\"a-link-normal s-underline-text s-underline-link-text s-link-style a-text-normal\" href=\"/realme-Storage-Processor-Triple-Display/dp/B09RMQYHLH/ref=sr_1_21?keywords=phones&amp;qid=1669649157&amp;qu=eyJxc2MiOiI4LjI2IiwicXNhIjoiNy44NSIsInFzcCI6IjUuODkifQ%3D%3D&amp;sr=8-21\" target=\"_blank\"><span class=\"a-size-medium a-color-base a-text-normal\">realme narzo 50 (Speed Blue, 4GB RAM+64GB Storage) Helio G96 Processor | 50MP AI Triple Camera | 120Hz Ultra Smooth Display</span> </a>,\n",
              " <a class=\"a-link-normal s-underline-text s-underline-link-text s-link-style a-text-normal\" href=\"/Redmi-Horizon-Qualcomm%C2%AE-SnapdragonTM-Included/dp/B09QSBF2T7/ref=sr_1_22?keywords=phones&amp;qid=1669649157&amp;qu=eyJxc2MiOiI4LjI2IiwicXNhIjoiNy44NSIsInFzcCI6IjUuODkifQ%3D%3D&amp;sr=8-22\" target=\"_blank\"><span class=\"a-size-medium a-color-base a-text-normal\">Redmi Note 11 (Horizon Blue, 6GB RAM, 128GB Storage)|90Hz FHD+ AMOLED Display | Qualcomm® Snapdragon™ 680-6nm | 33W Charger Included</span> </a>,\n",
              " <a class=\"a-link-normal s-underline-text s-underline-link-text s-link-style a-text-normal\" href=\"/Redmi-Storage-Battery-Leather-Texture/dp/B0BBN56J5H/ref=sr_1_23?keywords=phones&amp;qid=1669649157&amp;qu=eyJxc2MiOiI4LjI2IiwicXNhIjoiNy44NSIsInFzcCI6IjUuODkifQ%3D%3D&amp;sr=8-23\" target=\"_blank\"><span class=\"a-size-medium a-color-base a-text-normal\">Redmi A1 (Black, 2GB RAM, 32GB Storage) | Segment Best AI Dual Cam | 5000mAh Battery | Leather Texture Design | Android 12</span> </a>,\n",
              " <a class=\"a-link-normal s-underline-text s-underline-link-text s-link-style a-text-normal\" href=\"/Redmi-10-Prime-extendable-Adaptive/dp/B09CV13RWF/ref=sr_1_24?keywords=phones&amp;qid=1669649157&amp;qu=eyJxc2MiOiI4LjI2IiwicXNhIjoiNy44NSIsInFzcCI6IjUuODkifQ%3D%3D&amp;sr=8-24\" target=\"_blank\"><span class=\"a-size-medium a-color-base a-text-normal\">Redmi 10 Prime (Phantom Black 6GB RAM 128GB ROM |Helio G88 with extendable RAM Upto 2GB |FHD+ 90Hz Adaptive Sync Display)</span> </a>,\n",
              " <a class=\"a-link-normal s-underline-text s-underline-link-text s-link-style a-text-normal\" href=\"/Nokia-Android-Smartphone-Battery-Storage/dp/B09Y99VSSJ/ref=sr_1_25?keywords=phones&amp;qid=1669649157&amp;qu=eyJxc2MiOiI4LjI2IiwicXNhIjoiNy44NSIsInFzcCI6IjUuODkifQ%3D%3D&amp;sr=8-25\" target=\"_blank\"><span class=\"a-size-medium a-color-base a-text-normal\">Nokia G21 Android Smartphone, Dual SIM, 3-Day Battery Life, 6GB RAM + 128GB Storage, 50MP Triple AI Camera | Nordic Blue</span> </a>,\n",
              " <a class=\"a-link-normal s-underline-text s-underline-link-text s-link-style a-text-normal\" href=\"/Redmi-Storage-Battery-Finger-Booster/dp/B09XB7SRQ5/ref=sr_1_26?keywords=phones&amp;qid=1669649157&amp;qu=eyJxc2MiOiI4LjI2IiwicXNhIjoiNy44NSIsInFzcCI6IjUuODkifQ%3D%3D&amp;sr=8-26\" target=\"_blank\"><span class=\"a-size-medium a-color-base a-text-normal\">Redmi 10A (Slate Grey, 4GB RAM, 64GB Storage) | 2 Ghz Octa Core Helio G25 | 5000 mAh Battery | Finger Print Sensor | Upto 5GB RAM with RAM Booster</span> </a>,\n",
              " <a class=\"a-link-normal s-underline-text s-underline-link-text s-link-style a-text-normal\" href=\"/realme-narzo-Carbon-Black-Storage/dp/B09FKGDJNC/ref=sr_1_27?keywords=phones&amp;qid=1669649157&amp;qu=eyJxc2MiOiI4LjI2IiwicXNhIjoiNy44NSIsInFzcCI6IjUuODkifQ%3D%3D&amp;sr=8-27\" target=\"_blank\"><span class=\"a-size-medium a-color-base a-text-normal\">realme narzo 50i (Carbon Black, 2GB RAM+32GB Storage) Octa Core Processor | 6.5\" inch Large Display</span> </a>,\n",
              " <a class=\"a-link-normal s-underline-text s-underline-link-text s-link-style a-text-normal\" href=\"/Redmi-Storage-Qualcomm%C2%AE-SnapdragonTM-Included/dp/B09QS9X16F/ref=sr_1_28?keywords=phones&amp;qid=1669649157&amp;qu=eyJxc2MiOiI4LjI2IiwicXNhIjoiNy44NSIsInFzcCI6IjUuODkifQ%3D%3D&amp;sr=8-28\" target=\"_blank\"><span class=\"a-size-medium a-color-base a-text-normal\">Redmi Note 11 (Space Black, 6GB RAM, 64GB Storage) | 90Hz FHD+ AMOLED Display | Qualcomm® Snapdragon™ 680-6nm | 33W Charger Included</span> </a>,\n",
              " <a class=\"a-link-normal s-underline-text s-underline-link-text s-link-style a-text-normal\" href=\"/Redmi-Battery-Leather-Texture-Android/dp/B0BBN3WF7V/ref=sr_1_29?keywords=phones&amp;qid=1669649157&amp;qu=eyJxc2MiOiI4LjI2IiwicXNhIjoiNy44NSIsInFzcCI6IjUuODkifQ%3D%3D&amp;sr=8-29\" target=\"_blank\"><span class=\"a-size-medium a-color-base a-text-normal\">Redmi A1 (Light Green, 2GB RAM 32GB ROM) | Segment Best AI Dual Cam | 5000mAh Battery | Leather Texture Design | Android 12</span> </a>,\n",
              " <a class=\"a-link-normal s-underline-text s-underline-link-text s-link-style a-text-normal\" href=\"/Nothing-Phone-Black-128-RAM/dp/B0BKZVF7VV/ref=sr_1_30?keywords=phones&amp;qid=1669649157&amp;qu=eyJxc2MiOiI4LjI2IiwicXNhIjoiNy44NSIsInFzcCI6IjUuODkifQ%3D%3D&amp;sr=8-30\" target=\"_blank\"><span class=\"a-size-medium a-color-base a-text-normal\">Nothing Phone (1) 5G (Black, 128 GB) (8 GB RAM)</span> </a>,\n",
              " <a class=\"a-link-normal s-underline-text s-underline-link-text s-link-style a-text-normal\" href=\"/Samsung-Midnight-Storage-5000mAh-Battery/dp/B0B4F1YC3J/ref=sr_1_31?keywords=phones&amp;qid=1669649157&amp;qu=eyJxc2MiOiI4LjI2IiwicXNhIjoiNy44NSIsInFzcCI6IjUuODkifQ%3D%3D&amp;sr=8-31\" target=\"_blank\"><span class=\"a-size-medium a-color-base a-text-normal\">Samsung Galaxy M13 5G (Midnight Blue, 4GB, 64GB Storage) | 5000mAh Battery | Upto 8GB RAM with RAM Plus</span> </a>,\n",
              " <a class=\"a-link-normal s-underline-text s-underline-link-text s-link-style a-text-normal\" href=\"/Redmi-9A-Sport-Octa-core-Processor/dp/B09GFQQFRF/ref=sr_1_32?keywords=phones&amp;qid=1669649157&amp;qu=eyJxc2MiOiI4LjI2IiwicXNhIjoiNy44NSIsInFzcCI6IjUuODkifQ%3D%3D&amp;sr=8-32\" target=\"_blank\"><span class=\"a-size-medium a-color-base a-text-normal\">Redmi 9A Sport (Metallic Blue, 2GB RAM, 32GB Storage) | 2GHz Octa-core Helio G25 Processor | 5000 mAh Battery</span> </a>]"
            ]
          },
          "metadata": {},
          "execution_count": 24
        }
      ]
    },
    {
      "cell_type": "code",
      "source": [
        "link=links[0].get('href')"
      ],
      "metadata": {
        "id": "7yqeFGTQgDV9"
      },
      "execution_count": 25,
      "outputs": []
    },
    {
      "cell_type": "code",
      "source": [
        "prod_list='https://amazon.in' + link\n",
        "prod_list"
      ],
      "metadata": {
        "colab": {
          "base_uri": "https://localhost:8080/",
          "height": 53
        },
        "id": "u0vokB7jiUBI",
        "outputId": "b9c1070b-ff3f-4ece-a313-d0cc7f75cefd"
      },
      "execution_count": 26,
      "outputs": [
        {
          "output_type": "execute_result",
          "data": {
            "text/plain": [
              "'https://amazon.in/Redmi-Storage-Battery-Leather-Texture/dp/B0BBN4DZBD/ref=sr_1_17?keywords=phones&qid=1669649157&qu=eyJxc2MiOiI4LjI2IiwicXNhIjoiNy44NSIsInFzcCI6IjUuODkifQ%3D%3D&sr=8-17'"
            ],
            "application/vnd.google.colaboratory.intrinsic+json": {
              "type": "string"
            }
          },
          "metadata": {},
          "execution_count": 26
        }
      ]
    },
    {
      "cell_type": "code",
      "source": [],
      "metadata": {
        "id": "zYlW35mLjk-n"
      },
      "execution_count": 26,
      "outputs": []
    },
    {
      "cell_type": "code",
      "source": [
        "new_webpage=requests.get(prod_list,headers=header)\n",
        "new_webpage"
      ],
      "metadata": {
        "colab": {
          "base_uri": "https://localhost:8080/"
        },
        "id": "a43p6TrsjDTf",
        "outputId": "cbbd4461-6317-426d-8f83-6eed0c51ceb8"
      },
      "execution_count": 27,
      "outputs": [
        {
          "output_type": "execute_result",
          "data": {
            "text/plain": [
              "<Response [200]>"
            ]
          },
          "metadata": {},
          "execution_count": 27
        }
      ]
    },
    {
      "cell_type": "code",
      "source": [
        "new_soup=BeautifulSoup(new_webpage.content,'html.parser')\n",
        "#soup"
      ],
      "metadata": {
        "id": "NSaMxjXwjucs"
      },
      "execution_count": 28,
      "outputs": []
    },
    {
      "cell_type": "code",
      "source": [
        "title=new_soup.find('span',id='productTitle').get_text()\n",
        "title.strip()"
      ],
      "metadata": {
        "colab": {
          "base_uri": "https://localhost:8080/",
          "height": 35
        },
        "id": "wPWAxDZfj8FP",
        "outputId": "64c4f852-2d4f-4deb-beee-bb7763eaf5fb"
      },
      "execution_count": 29,
      "outputs": [
        {
          "output_type": "execute_result",
          "data": {
            "text/plain": [
              "'Redmi A1 (Light Blue, 2GB RAM, 32GB Storage) | Segment Best AI Dual Cam | 5000mAh Battery | Leather Texture Design | Android 12'"
            ],
            "application/vnd.google.colaboratory.intrinsic+json": {
              "type": "string"
            }
          },
          "metadata": {},
          "execution_count": 29
        }
      ]
    },
    {
      "cell_type": "code",
      "source": [
        "ratings=new_soup.find('span',id='acrCustomerReviewText').get_text()\n",
        "ratings.strip()"
      ],
      "metadata": {
        "colab": {
          "base_uri": "https://localhost:8080/",
          "height": 35
        },
        "id": "TTbmapGIkcK9",
        "outputId": "f0da5def-5595-4788-b0eb-da0d198e58a5"
      },
      "execution_count": 30,
      "outputs": [
        {
          "output_type": "execute_result",
          "data": {
            "text/plain": [
              "'5,239 ratings'"
            ],
            "application/vnd.google.colaboratory.intrinsic+json": {
              "type": "string"
            }
          },
          "metadata": {},
          "execution_count": 30
        }
      ]
    },
    {
      "cell_type": "code",
      "source": [
        "price=new_soup.find('span',class_='a-offscreen').text\n",
        "print(price)"
      ],
      "metadata": {
        "colab": {
          "base_uri": "https://localhost:8080/"
        },
        "id": "vX2I9iSektve",
        "outputId": "9f6c6144-b2ec-4ada-c1a4-ae10a122813a"
      },
      "execution_count": 31,
      "outputs": [
        {
          "output_type": "stream",
          "name": "stdout",
          "text": [
            "₹6,299.00\n"
          ]
        }
      ]
    },
    {
      "cell_type": "code",
      "source": [
        "'''\n",
        "popular=new_soup.find('span',class_='ac-badge-text-primary ac-white').text\n",
        "popular1=new_soup.find('span',class_='ac-badge-text-secondary ac-orange').text\n",
        "print(popular+popular1)\n",
        "'''"
      ],
      "metadata": {
        "colab": {
          "base_uri": "https://localhost:8080/",
          "height": 53
        },
        "id": "FqoNl8Oylv5a",
        "outputId": "61fe6858-ab75-42c3-979b-15b0278bd2ee"
      },
      "execution_count": 32,
      "outputs": [
        {
          "output_type": "execute_result",
          "data": {
            "text/plain": [
              "\"\\npopular=new_soup.find('span',class_='ac-badge-text-primary ac-white').text\\npopular1=new_soup.find('span',class_='ac-badge-text-secondary ac-orange').text\\nprint(popular+popular1)\\n\""
            ],
            "application/vnd.google.colaboratory.intrinsic+json": {
              "type": "string"
            }
          },
          "metadata": {},
          "execution_count": 32
        }
      ]
    },
    {
      "cell_type": "code",
      "source": [
        "stars=new_soup.find('span',class_='a-icon-alt').text\n",
        "print(stars)"
      ],
      "metadata": {
        "colab": {
          "base_uri": "https://localhost:8080/"
        },
        "id": "IApatp-Dnjp2",
        "outputId": "54aa42cf-c91b-473b-9e9a-aa9b76e800ff"
      },
      "execution_count": 33,
      "outputs": [
        {
          "output_type": "stream",
          "name": "stdout",
          "text": [
            "4.0 out of 5 stars\n"
          ]
        }
      ]
    },
    {
      "cell_type": "code",
      "source": [
        "#storing all links in list format\n",
        "link_list=[]\n",
        "for i in links:\n",
        "  link_list.append(i.get('href'))\n",
        "link_list"
      ],
      "metadata": {
        "colab": {
          "base_uri": "https://localhost:8080/"
        },
        "id": "oRbzSh_krIQx",
        "outputId": "ef4458d2-2f13-47a3-aca8-f8510012b2d1"
      },
      "execution_count": 34,
      "outputs": [
        {
          "output_type": "execute_result",
          "data": {
            "text/plain": [
              "['/Redmi-Storage-Battery-Leather-Texture/dp/B0BBN4DZBD/ref=sr_1_17?keywords=phones&qid=1669649157&qu=eyJxc2MiOiI4LjI2IiwicXNhIjoiNy44NSIsInFzcCI6IjUuODkifQ%3D%3D&sr=8-17',\n",
              " '/Samsung-Midnight-Storage-6000mAh-Battery/dp/B0B4F52B5X/ref=sr_1_18?keywords=phones&qid=1669649157&qu=eyJxc2MiOiI4LjI2IiwicXNhIjoiNy44NSIsInFzcCI6IjUuODkifQ%3D%3D&sr=8-18',\n",
              " '/Tecno-Spark-Storage-Expandable-Processor/dp/B0B56YRBNT/ref=sr_1_19?keywords=phones&qid=1669649157&qu=eyJxc2MiOiI4LjI2IiwicXNhIjoiNy44NSIsInFzcCI6IjUuODkifQ%3D%3D&sr=8-19',\n",
              " '/realme-narzo-Carbon-Black-Storage/dp/B09FKB3446/ref=sr_1_20?keywords=phones&qid=1669649157&qu=eyJxc2MiOiI4LjI2IiwicXNhIjoiNy44NSIsInFzcCI6IjUuODkifQ%3D%3D&sr=8-20',\n",
              " '/realme-Storage-Processor-Triple-Display/dp/B09RMQYHLH/ref=sr_1_21?keywords=phones&qid=1669649157&qu=eyJxc2MiOiI4LjI2IiwicXNhIjoiNy44NSIsInFzcCI6IjUuODkifQ%3D%3D&sr=8-21',\n",
              " '/Redmi-Horizon-Qualcomm%C2%AE-SnapdragonTM-Included/dp/B09QSBF2T7/ref=sr_1_22?keywords=phones&qid=1669649157&qu=eyJxc2MiOiI4LjI2IiwicXNhIjoiNy44NSIsInFzcCI6IjUuODkifQ%3D%3D&sr=8-22',\n",
              " '/Redmi-Storage-Battery-Leather-Texture/dp/B0BBN56J5H/ref=sr_1_23?keywords=phones&qid=1669649157&qu=eyJxc2MiOiI4LjI2IiwicXNhIjoiNy44NSIsInFzcCI6IjUuODkifQ%3D%3D&sr=8-23',\n",
              " '/Redmi-10-Prime-extendable-Adaptive/dp/B09CV13RWF/ref=sr_1_24?keywords=phones&qid=1669649157&qu=eyJxc2MiOiI4LjI2IiwicXNhIjoiNy44NSIsInFzcCI6IjUuODkifQ%3D%3D&sr=8-24',\n",
              " '/Nokia-Android-Smartphone-Battery-Storage/dp/B09Y99VSSJ/ref=sr_1_25?keywords=phones&qid=1669649157&qu=eyJxc2MiOiI4LjI2IiwicXNhIjoiNy44NSIsInFzcCI6IjUuODkifQ%3D%3D&sr=8-25',\n",
              " '/Redmi-Storage-Battery-Finger-Booster/dp/B09XB7SRQ5/ref=sr_1_26?keywords=phones&qid=1669649157&qu=eyJxc2MiOiI4LjI2IiwicXNhIjoiNy44NSIsInFzcCI6IjUuODkifQ%3D%3D&sr=8-26',\n",
              " '/realme-narzo-Carbon-Black-Storage/dp/B09FKGDJNC/ref=sr_1_27?keywords=phones&qid=1669649157&qu=eyJxc2MiOiI4LjI2IiwicXNhIjoiNy44NSIsInFzcCI6IjUuODkifQ%3D%3D&sr=8-27',\n",
              " '/Redmi-Storage-Qualcomm%C2%AE-SnapdragonTM-Included/dp/B09QS9X16F/ref=sr_1_28?keywords=phones&qid=1669649157&qu=eyJxc2MiOiI4LjI2IiwicXNhIjoiNy44NSIsInFzcCI6IjUuODkifQ%3D%3D&sr=8-28',\n",
              " '/Redmi-Battery-Leather-Texture-Android/dp/B0BBN3WF7V/ref=sr_1_29?keywords=phones&qid=1669649157&qu=eyJxc2MiOiI4LjI2IiwicXNhIjoiNy44NSIsInFzcCI6IjUuODkifQ%3D%3D&sr=8-29',\n",
              " '/Nothing-Phone-Black-128-RAM/dp/B0BKZVF7VV/ref=sr_1_30?keywords=phones&qid=1669649157&qu=eyJxc2MiOiI4LjI2IiwicXNhIjoiNy44NSIsInFzcCI6IjUuODkifQ%3D%3D&sr=8-30',\n",
              " '/Samsung-Midnight-Storage-5000mAh-Battery/dp/B0B4F1YC3J/ref=sr_1_31?keywords=phones&qid=1669649157&qu=eyJxc2MiOiI4LjI2IiwicXNhIjoiNy44NSIsInFzcCI6IjUuODkifQ%3D%3D&sr=8-31',\n",
              " '/Redmi-9A-Sport-Octa-core-Processor/dp/B09GFQQFRF/ref=sr_1_32?keywords=phones&qid=1669649157&qu=eyJxc2MiOiI4LjI2IiwicXNhIjoiNy44NSIsInFzcCI6IjUuODkifQ%3D%3D&sr=8-32']"
            ]
          },
          "metadata": {},
          "execution_count": 34
        }
      ]
    },
    {
      "cell_type": "code",
      "source": [
        "#creating functions\n",
        "\n",
        "def get_title(soup):\n",
        "  try:\n",
        "    title=new_soup.find('span',id='productTitle').get_text()\n",
        "    new_title=title.strip()\n",
        "\n",
        "  except AttributeError:\n",
        "    new_title=\"\"\n",
        "\n",
        "  return new_title\n",
        "\n",
        "def get_ratings(soup):\n",
        "  try:\n",
        "    ratings=new_soup.find('span',id='acrCustomerReviewText').get_text()\n",
        "    new_ratings=ratings.strip()\n",
        "  \n",
        "  except AttributeError:\n",
        "    new_ratings= \"\"\n",
        "\n",
        "  return new_ratings\n",
        "\n",
        "def get_price(soup):\n",
        "  try:\n",
        "    price=new_soup.find('span',class_='a-offscreen').text\n",
        "\n",
        "  except AttributeError:\n",
        "    price=\"\"\n",
        "\n",
        "  return price\n",
        "\n",
        "def get_stars(soup):\n",
        "  try:\n",
        "    stars=new_soup.find('span',class_='a-icon-alt').text\n",
        "  except AttributeError:\n",
        "    stars=\"\"\n",
        "  \n",
        "  return stars"
      ],
      "metadata": {
        "id": "-w4pyz8QrZ1J"
      },
      "execution_count": 35,
      "outputs": []
    },
    {
      "cell_type": "code",
      "source": [
        "d={'title':[],'price':[],'ratings':[],'stars':[]}\n",
        "\n",
        "for i in link_list:\n",
        "  new_webpage=requests.get('https://amazon.in' + i, headers=header)\n",
        "\n",
        "  new_soup=BeautifulSoup(new_webpage.content,'html.parser')\n",
        "\n",
        "  d['title'].append(get_title(new_soup))\n",
        "  d['price'].append(get_price(new_soup))\n",
        "  d['ratings'].append(get_ratings(new_soup))\n",
        "  d['stars'].append(get_stars(new_soup))\n",
        "\n",
        "amazon_df = pd.DataFrame.from_dict(d)\n",
        "amazon_df['title'].replace('', np.nan, inplace=True)\n",
        "amazon_df = amazon_df.dropna(subset=['title'])\n",
        "amazon_df.to_csv(\"amazon_data.csv\", header=True, index=False)\n"
      ],
      "metadata": {
        "id": "Lyi9F6futpIl"
      },
      "execution_count": 36,
      "outputs": []
    }
  ]
}